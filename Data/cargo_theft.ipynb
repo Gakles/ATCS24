{
 "cells": [
  {
   "cell_type": "code",
   "execution_count": 1,
   "metadata": {},
   "outputs": [
    {
     "name": "stderr",
     "output_type": "stream",
     "text": [
      "/var/folders/k1/b0_21mv5409283p9ml_l0yb40000gn/T/ipykernel_20347/768710415.py:2: DeprecationWarning: \n",
      "Pyarrow will become a required dependency of pandas in the next major release of pandas (pandas 3.0),\n",
      "(to allow more performant data types, such as the Arrow string type, and better interoperability with other libraries)\n",
      "but was not found to be installed on your system.\n",
      "If this would cause problems for you,\n",
      "please provide us feedback at https://github.com/pandas-dev/pandas/issues/54466\n",
      "        \n",
      "  import pandas as pd\n"
     ]
    }
   ],
   "source": [
    "#Setup\n",
    "import pandas as pd\n",
    "import numpy as np\n",
    "import matplotlib.pyplot as plt\n",
    "import seaborn as sns\n",
    "df = pd.read_csv(\"CT2012.csv\")"
   ]
  },
  {
   "cell_type": "markdown",
   "metadata": {},
   "source": [
    "## Data exploration"
   ]
  },
  {
   "cell_type": "code",
   "execution_count": 2,
   "metadata": {},
   "outputs": [
    {
     "name": "stdout",
     "output_type": "stream",
     "text": [
      "<class 'pandas.core.frame.DataFrame'>\n",
      "RangeIndex: 193274 entries, 0 to 193273\n",
      "Data columns (total 31 columns):\n",
      " #   Column                 Non-Null Count   Dtype  \n",
      "---  ------                 --------------   -----  \n",
      " 0   data_year              193274 non-null  int64  \n",
      " 1   ori                    193274 non-null  object \n",
      " 2   pub_agency_name        193274 non-null  object \n",
      " 3   pub_agency_unit        2202 non-null    object \n",
      " 4   agency_type_name       193274 non-null  object \n",
      " 5   state_abbr             193274 non-null  object \n",
      " 6   state_name             193274 non-null  object \n",
      " 7   division_name          193274 non-null  object \n",
      " 8   county_name            193274 non-null  object \n",
      " 9   region_name            193274 non-null  object \n",
      " 10  population_group_code  193232 non-null  object \n",
      " 11  population_group_desc  193232 non-null  object \n",
      " 12  offense_code           193274 non-null  object \n",
      " 13  offense_name           193274 non-null  object \n",
      " 14  offender_race          108063 non-null  object \n",
      " 15  offender_ethnicity     108063 non-null  object \n",
      " 16  offender_age           99481 non-null   float64\n",
      " 17  offender_sex           108063 non-null  object \n",
      " 18  victim_type_code       193274 non-null  object \n",
      " 19  victim_type_name       193274 non-null  object \n",
      " 20  location_code          193274 non-null  int64  \n",
      " 21  location_name          193274 non-null  object \n",
      " 22  weapon_code            17691 non-null   object \n",
      " 23  weapon_name            15500 non-null   object \n",
      " 24  prop_desc_code         193203 non-null  float64\n",
      " 25  prop_desc_code.1       193203 non-null  float64\n",
      " 26  prop_desc_name         193203 non-null  object \n",
      " 27  stolen_value           192801 non-null  float64\n",
      " 28  recovered_value        193274 non-null  int64  \n",
      " 29  recovered_flag         193203 non-null  object \n",
      " 30  date_recovered         28743 non-null   object \n",
      "dtypes: float64(4), int64(3), object(24)\n",
      "memory usage: 45.7+ MB\n"
     ]
    }
   ],
   "source": [
    "df.info()"
   ]
  },
  {
   "cell_type": "code",
   "execution_count": 3,
   "metadata": {},
   "outputs": [
    {
     "data": {
      "text/html": [
       "<div>\n",
       "<style scoped>\n",
       "    .dataframe tbody tr th:only-of-type {\n",
       "        vertical-align: middle;\n",
       "    }\n",
       "\n",
       "    .dataframe tbody tr th {\n",
       "        vertical-align: top;\n",
       "    }\n",
       "\n",
       "    .dataframe thead th {\n",
       "        text-align: right;\n",
       "    }\n",
       "</style>\n",
       "<table border=\"1\" class=\"dataframe\">\n",
       "  <thead>\n",
       "    <tr style=\"text-align: right;\">\n",
       "      <th></th>\n",
       "      <th>data_year</th>\n",
       "      <th>ori</th>\n",
       "      <th>pub_agency_name</th>\n",
       "      <th>pub_agency_unit</th>\n",
       "      <th>agency_type_name</th>\n",
       "      <th>state_abbr</th>\n",
       "      <th>state_name</th>\n",
       "      <th>division_name</th>\n",
       "      <th>county_name</th>\n",
       "      <th>region_name</th>\n",
       "      <th>...</th>\n",
       "      <th>location_name</th>\n",
       "      <th>weapon_code</th>\n",
       "      <th>weapon_name</th>\n",
       "      <th>prop_desc_code</th>\n",
       "      <th>prop_desc_code.1</th>\n",
       "      <th>prop_desc_name</th>\n",
       "      <th>stolen_value</th>\n",
       "      <th>recovered_value</th>\n",
       "      <th>recovered_flag</th>\n",
       "      <th>date_recovered</th>\n",
       "    </tr>\n",
       "  </thead>\n",
       "  <tbody>\n",
       "    <tr>\n",
       "      <th>0</th>\n",
       "      <td>2012</td>\n",
       "      <td>FL0160200</td>\n",
       "      <td>Jacksonville</td>\n",
       "      <td>NaN</td>\n",
       "      <td>City</td>\n",
       "      <td>FL</td>\n",
       "      <td>Florida</td>\n",
       "      <td>South Atlantic</td>\n",
       "      <td>DUVAL</td>\n",
       "      <td>South</td>\n",
       "      <td>...</td>\n",
       "      <td>Not Specified</td>\n",
       "      <td>12</td>\n",
       "      <td>Handgun</td>\n",
       "      <td>8.0</td>\n",
       "      <td>8.0</td>\n",
       "      <td>Consumable Goods</td>\n",
       "      <td>10000.0</td>\n",
       "      <td>10000</td>\n",
       "      <td>True</td>\n",
       "      <td>2012-07-25</td>\n",
       "    </tr>\n",
       "    <tr>\n",
       "      <th>1</th>\n",
       "      <td>2012</td>\n",
       "      <td>FL0160200</td>\n",
       "      <td>Jacksonville</td>\n",
       "      <td>NaN</td>\n",
       "      <td>City</td>\n",
       "      <td>FL</td>\n",
       "      <td>Florida</td>\n",
       "      <td>South Atlantic</td>\n",
       "      <td>DUVAL</td>\n",
       "      <td>South</td>\n",
       "      <td>...</td>\n",
       "      <td>Not Specified</td>\n",
       "      <td>12</td>\n",
       "      <td>Handgun</td>\n",
       "      <td>8.0</td>\n",
       "      <td>8.0</td>\n",
       "      <td>Consumable Goods</td>\n",
       "      <td>10000.0</td>\n",
       "      <td>10000</td>\n",
       "      <td>True</td>\n",
       "      <td>2012-07-25</td>\n",
       "    </tr>\n",
       "    <tr>\n",
       "      <th>2</th>\n",
       "      <td>2012</td>\n",
       "      <td>FL0160200</td>\n",
       "      <td>Jacksonville</td>\n",
       "      <td>NaN</td>\n",
       "      <td>City</td>\n",
       "      <td>FL</td>\n",
       "      <td>Florida</td>\n",
       "      <td>South Atlantic</td>\n",
       "      <td>DUVAL</td>\n",
       "      <td>South</td>\n",
       "      <td>...</td>\n",
       "      <td>Not Specified</td>\n",
       "      <td>12</td>\n",
       "      <td>Handgun</td>\n",
       "      <td>8.0</td>\n",
       "      <td>8.0</td>\n",
       "      <td>Consumable Goods</td>\n",
       "      <td>10000.0</td>\n",
       "      <td>10000</td>\n",
       "      <td>True</td>\n",
       "      <td>2012-07-25</td>\n",
       "    </tr>\n",
       "    <tr>\n",
       "      <th>3</th>\n",
       "      <td>2012</td>\n",
       "      <td>FL0160200</td>\n",
       "      <td>Jacksonville</td>\n",
       "      <td>NaN</td>\n",
       "      <td>City</td>\n",
       "      <td>FL</td>\n",
       "      <td>Florida</td>\n",
       "      <td>South Atlantic</td>\n",
       "      <td>DUVAL</td>\n",
       "      <td>South</td>\n",
       "      <td>...</td>\n",
       "      <td>Not Specified</td>\n",
       "      <td>12</td>\n",
       "      <td>Handgun</td>\n",
       "      <td>8.0</td>\n",
       "      <td>8.0</td>\n",
       "      <td>Consumable Goods</td>\n",
       "      <td>10000.0</td>\n",
       "      <td>10000</td>\n",
       "      <td>True</td>\n",
       "      <td>2012-07-25</td>\n",
       "    </tr>\n",
       "    <tr>\n",
       "      <th>4</th>\n",
       "      <td>2012</td>\n",
       "      <td>FL0160200</td>\n",
       "      <td>Jacksonville</td>\n",
       "      <td>NaN</td>\n",
       "      <td>City</td>\n",
       "      <td>FL</td>\n",
       "      <td>Florida</td>\n",
       "      <td>South Atlantic</td>\n",
       "      <td>DUVAL</td>\n",
       "      <td>South</td>\n",
       "      <td>...</td>\n",
       "      <td>Commercial/Office Building</td>\n",
       "      <td>12</td>\n",
       "      <td>Handgun</td>\n",
       "      <td>8.0</td>\n",
       "      <td>8.0</td>\n",
       "      <td>Consumable Goods</td>\n",
       "      <td>10000.0</td>\n",
       "      <td>10000</td>\n",
       "      <td>True</td>\n",
       "      <td>2012-07-25</td>\n",
       "    </tr>\n",
       "  </tbody>\n",
       "</table>\n",
       "<p>5 rows × 31 columns</p>\n",
       "</div>"
      ],
      "text/plain": [
       "   data_year        ori pub_agency_name pub_agency_unit agency_type_name  \\\n",
       "0       2012  FL0160200    Jacksonville             NaN             City   \n",
       "1       2012  FL0160200    Jacksonville             NaN             City   \n",
       "2       2012  FL0160200    Jacksonville             NaN             City   \n",
       "3       2012  FL0160200    Jacksonville             NaN             City   \n",
       "4       2012  FL0160200    Jacksonville             NaN             City   \n",
       "\n",
       "  state_abbr state_name   division_name county_name region_name  ...  \\\n",
       "0         FL    Florida  South Atlantic       DUVAL       South  ...   \n",
       "1         FL    Florida  South Atlantic       DUVAL       South  ...   \n",
       "2         FL    Florida  South Atlantic       DUVAL       South  ...   \n",
       "3         FL    Florida  South Atlantic       DUVAL       South  ...   \n",
       "4         FL    Florida  South Atlantic       DUVAL       South  ...   \n",
       "\n",
       "                location_name weapon_code weapon_name prop_desc_code  \\\n",
       "0               Not Specified          12     Handgun            8.0   \n",
       "1               Not Specified          12     Handgun            8.0   \n",
       "2               Not Specified          12     Handgun            8.0   \n",
       "3               Not Specified          12     Handgun            8.0   \n",
       "4  Commercial/Office Building          12     Handgun            8.0   \n",
       "\n",
       "  prop_desc_code.1    prop_desc_name  stolen_value recovered_value  \\\n",
       "0              8.0  Consumable Goods       10000.0           10000   \n",
       "1              8.0  Consumable Goods       10000.0           10000   \n",
       "2              8.0  Consumable Goods       10000.0           10000   \n",
       "3              8.0  Consumable Goods       10000.0           10000   \n",
       "4              8.0  Consumable Goods       10000.0           10000   \n",
       "\n",
       "  recovered_flag date_recovered  \n",
       "0           True     2012-07-25  \n",
       "1           True     2012-07-25  \n",
       "2           True     2012-07-25  \n",
       "3           True     2012-07-25  \n",
       "4           True     2012-07-25  \n",
       "\n",
       "[5 rows x 31 columns]"
      ]
     },
     "execution_count": 3,
     "metadata": {},
     "output_type": "execute_result"
    }
   ],
   "source": [
    "df.head()"
   ]
  },
  {
   "cell_type": "markdown",
   "metadata": {},
   "source": [
    "## Data cleaning"
   ]
  },
  {
   "cell_type": "markdown",
   "metadata": {},
   "source": [
    "We're going to drop pub_agency_unit, offender_race, and offender_ethnicity. They don't have enough rows (<50%) to make sense to include. We're also going to drop offense_code, prop_desc_code, prop_desc_code.1, weapon_code, population_group_code, location_code, victim_type_code, and state_abbr because they are repeats of data we have. "
   ]
  },
  {
   "cell_type": "code",
   "execution_count": 4,
   "metadata": {},
   "outputs": [],
   "source": [
    "#Dropping the useless columns\n",
    "df = df.drop([\"pub_agency_unit\", \"offender_race\", \"offender_ethnicity\", \"offense_code\", \"prop_desc_code\", \"prop_desc_code.1\", \"weapon_code\", \"population_group_code\", \"location_code\", \"victim_type_code\", \"state_abbr\"], axis=1)\n"
   ]
  },
  {
   "cell_type": "code",
   "execution_count": 5,
   "metadata": {},
   "outputs": [
    {
     "name": "stdout",
     "output_type": "stream",
     "text": [
      "<class 'pandas.core.frame.DataFrame'>\n",
      "RangeIndex: 193274 entries, 0 to 193273\n",
      "Data columns (total 20 columns):\n",
      " #   Column                 Non-Null Count   Dtype  \n",
      "---  ------                 --------------   -----  \n",
      " 0   data_year              193274 non-null  int64  \n",
      " 1   ori                    193274 non-null  object \n",
      " 2   pub_agency_name        193274 non-null  object \n",
      " 3   agency_type_name       193274 non-null  object \n",
      " 4   state_name             193274 non-null  object \n",
      " 5   division_name          193274 non-null  object \n",
      " 6   county_name            193274 non-null  object \n",
      " 7   region_name            193274 non-null  object \n",
      " 8   population_group_desc  193232 non-null  object \n",
      " 9   offense_name           193274 non-null  object \n",
      " 10  offender_age           99481 non-null   float64\n",
      " 11  offender_sex           108063 non-null  object \n",
      " 12  victim_type_name       193274 non-null  object \n",
      " 13  location_name          193274 non-null  object \n",
      " 14  weapon_name            15500 non-null   object \n",
      " 15  prop_desc_name         193203 non-null  object \n",
      " 16  stolen_value           192801 non-null  float64\n",
      " 17  recovered_value        193274 non-null  int64  \n",
      " 18  recovered_flag         193203 non-null  object \n",
      " 19  date_recovered         28743 non-null   object \n",
      "dtypes: float64(2), int64(2), object(16)\n",
      "memory usage: 29.5+ MB\n"
     ]
    }
   ],
   "source": [
    "#Verify the changes we wanted took place\n",
    "df.info()"
   ]
  },
  {
   "cell_type": "markdown",
   "metadata": {},
   "source": [
    "## Exploring the data"
   ]
  },
  {
   "cell_type": "code",
   "execution_count": 6,
   "metadata": {},
   "outputs": [
    {
     "data": {
      "text/plain": [
       "<Axes: xlabel='stolen_value'>"
      ]
     },
     "execution_count": 6,
     "metadata": {},
     "output_type": "execute_result"
    },
    {
     "data": {
      "image/png": "[encoded data removed]",
      "text/plain": [
       "<Figure size 640x480 with 1 Axes>"
      ]
     },
     "metadata": {},
     "output_type": "display_data"
    }
   ],
   "source": [
    "\n",
    "#From ChatGPT\n",
    "#I drop the upper and lower 5% of data, as well as all values of $0 and $1 because they were both more than 10% of all values--I think this means they were catch-all values.\n",
    "def drop_outliers(df, column_name, lower_percentile=5, upper_percentile=95, drop_values=[0, 1]):\n",
    "    lower_bound = df[column_name].quantile(lower_percentile / 100)\n",
    "    upper_bound = df[column_name].quantile(upper_percentile / 100)\n",
    "\n",
    "    filtered_df = df[(df[column_name] >= lower_bound) & (df[column_name] <= upper_bound) & (~df[column_name].isin(drop_values))]\n",
    "\n",
    "    return filtered_df\n",
    "df = drop_outliers(df, column_name='stolen_value')\n",
    "\n",
    "\n",
    "sns.boxplot(data = df, x = \"stolen_value\")"
   ]
  },
  {
   "cell_type": "code",
   "execution_count": 7,
   "metadata": {},
   "outputs": [
    {
     "name": "stderr",
     "output_type": "stream",
     "text": [
      "/var/folders/k1/b0_21mv5409283p9ml_l0yb40000gn/T/ipykernel_20347/1416166972.py:6: FutureWarning: \n",
      "\n",
      "Passing `palette` without assigning `hue` is deprecated and will be removed in v0.14.0. Assign the `x` variable to `hue` and set `legend=False` for the same effect.\n",
      "\n",
      "  sns.violinplot(x='offender_sex', y='offender_age', data=df, palette='pastel')\n"
     ]
    },
    {
     "data": {
      "image/png": "[encoded data removed]",
      "text/plain": [
       "<Figure size 1200x600 with 1 Axes>"
      ]
     },
     "metadata": {},
     "output_type": "display_data"
    }
   ],
   "source": [
    "#Plotting offender age and sex\n",
    "#23 offenders have sex \"X\" so we'll remove them\n",
    "df = df[df['offender_sex'] != 'X']\n",
    "\n",
    "plt.figure(figsize=(12, 6))\n",
    "sns.violinplot(x='offender_sex', y='offender_age', data=df, palette='pastel')\n",
    "plt.title('Age and Gender of Offenders')\n",
    "plt.xlabel('Offender Sex')\n",
    "plt.ylabel('Offender Age')\n",
    "plt.show()"
   ]
  },
  {
   "cell_type": "code",
   "execution_count": 8,
   "metadata": {},
   "outputs": [
    {
     "name": "stdout",
     "output_type": "stream",
     "text": [
      "North Carolina\n"
     ]
    }
   ],
   "source": [
    "#What is the most stolen from state?\n",
    "mode_state = df['state_name'].mode().values[0]\n",
    "print(mode_state)"
   ]
  },
  {
   "cell_type": "code",
   "execution_count": 9,
   "metadata": {},
   "outputs": [
    {
     "name": "stdout",
     "output_type": "stream",
     "text": [
      "27345 19.495519131916474\n"
     ]
    }
   ],
   "source": [
    "#And how many times was a cargo theft committed there?\n",
    "mode_count = (df['state_name'] == mode_state).sum()\n",
    "print(mode_count, mode_count/df.shape[0] * 100)\n"
   ]
  },
  {
   "cell_type": "markdown",
   "metadata": {},
   "source": [
    "## Statistical analysis"
   ]
  },
  {
   "cell_type": "markdown",
   "metadata": {},
   "source": [
    "What agency recovered the most cargo value?"
   ]
  },
  {
   "cell_type": "code",
   "execution_count": 10,
   "metadata": {},
   "outputs": [
    {
     "name": "stdout",
     "output_type": "stream",
     "text": [
      "Las Vegas Metropolitan Police Department with $3781781 recovered in the state of Nevada\n"
     ]
    }
   ],
   "source": [
    "#Use groupby to sort by pub_agency_name and then sum the recovered value. Find the max and the total.\n",
    "#One issue with this is that many agencies did not report the value recovered (or recovered nothing of value, ever)\n",
    "most_recovered_agency = df.groupby('pub_agency_name')['recovered_value'].sum().idxmax()\n",
    "most_recovered_amount = df.groupby('pub_agency_name')['recovered_value'].sum().max()\n",
    "madera_info = df.loc[df[\"pub_agency_name\"] == most_recovered_agency].iloc[0]\n",
    "\n",
    "print(most_recovered_agency, \"with $\" + str(most_recovered_amount), \"recovered in the state of\", madera_info[\"state_name\"])"
   ]
  },
  {
   "cell_type": "markdown",
   "metadata": {},
   "source": [
    "What was the most stolen from state, and how many thefts occured there?"
   ]
  },
  {
   "cell_type": "code",
   "execution_count": 11,
   "metadata": {},
   "outputs": [
    {
     "name": "stdout",
     "output_type": "stream",
     "text": [
      "North Carolina\n",
      "27345 thefts, which is 19.5% of the country's total\n"
     ]
    }
   ],
   "source": [
    "#What is the most stolen from state?\n",
    "mode_state = df['state_name'].mode().values[0]\n",
    "print(mode_state)\n",
    "\n",
    "#And how many times was a cargo theft committed there?\n",
    "mode_count = (df['state_name'] == mode_state).sum()\n",
    "print(str(mode_count) + \" thefts, which is \" + str(round(mode_count/df.shape[0] * 100, 2)) + \"% of the country's total\")\n"
   ]
  },
  {
   "cell_type": "markdown",
   "metadata": {},
   "source": [
    "What state has the highest theft value per capita?"
   ]
  },
  {
   "cell_type": "code",
   "execution_count": 14,
   "metadata": {},
   "outputs": [
    {
     "name": "stdout",
     "output_type": "stream",
     "text": [
      "The state with the highest per capita stolen value is North Carolina with an average per capita stolen value of $3.53.\n"
     ]
    }
   ],
   "source": [
    "#Make dictionary with states and their sum stolen_values\n",
    "state_stolen_value_dict = df.groupby('state_name')['stolen_value'].sum().to_dict()\n",
    "#Remove Federal value. I assume it means govt theft caught by internal govt agencies.\n",
    "state_stolen_value_dict.pop(\"Federal\", None)\n",
    "#Dictionary with state populations\n",
    "state_pops = {\"Alabama\"\t: 5024294, \"Alaska\" : 733374, \n",
    "\"Arizona\"\t:7157902,\n",
    "\"Arkansas\"\t:3011490,\n",
    "\"California\": 39538212,\n",
    "\"Colorado\": 5773707,\n",
    "\"Connecticut\": 3605912,\n",
    "\"Delaware\": 989946,\n",
    "\"District of Columbia\": 689548,\n",
    "    \"Florida\": 21538216,\n",
    "    \"Georgia\": 10713771,\n",
    "    \"Hawaii\": 1455274,\n",
    "    \"Idaho\": 1839117,\n",
    "    \"Illinois\": 12813469,\n",
    "    \"Indiana\": 6785442,\n",
    "    \"Iowa\": 3190427,\n",
    "    \"Kansas\": 2937835,\n",
    "    \"Kentucky\": 4506297,\n",
    "    \"Louisiana\": 4657785,\n",
    "    \"Maine\": 1363177,\n",
    "    \"Maryland\": 6177253,\n",
    "    \"Massachusetts\": 7032933,\n",
    "    \"Michigan\": 10077674,\n",
    "    \"Minnesota\": 5706804,\n",
    "    \"Mississippi\": 2961306,\n",
    "    \"Missouri\": 6154889,\n",
    "    \"Montana\": 1084244,\n",
    "    \"Nebraska\": 1961965,\n",
    "    \"Nevada\": 3104617,\n",
    "    \"New Hampshire\": 1377524,\n",
    "    \"New Jersey\": 9289039,\n",
    "    \"New Mexico\": 2117525,\n",
    "    \"New York\": 20202320,\n",
    "    \"North Carolina\": 10439459,\n",
    "    \"North Dakota\": 779079,\n",
    "    \"Ohio\": 11799331,\n",
    "    \"Oklahoma\": 3959411,\n",
    "    \"Oregon\": 4237279,\n",
    "    \"Pennsylvania\": 13002788,\n",
    "    \"Rhode Island\": 1097371,\n",
    "    \"South Carolina\": 5118422,\n",
    "    \"South Dakota\": 886668,\n",
    "    \"Tennessee\": 6910786,\n",
    "    \"Texas\": 29145459,\n",
    "    \"Utah\": 3271614,\n",
    "    \"Vermont\": 643077,\n",
    "    \"Virginia\": 8631373,\n",
    "    \"Washington\": 7705267,\n",
    "    \"West Virginia\": 1793713,\n",
    "    \"Wisconsin\": 5893713,\n",
    "    \"Wyoming\": 576850,\n",
    "    \"Guam\": 168801}\n",
    "\n",
    "#The below is from ChatGPT\n",
    "# Merge state_stolen_value_dict and state_pops\n",
    "merged_dict = {state: {'stolen_value': state_stolen_value_dict.get(state, 0),\n",
    "                       'population': state_pops.get(state, 1)} for state in set(state_stolen_value_dict) | set(state_pops)}\n",
    "\n",
    "# Create a DataFrame from the merged dictionary\n",
    "merged_df = pd.DataFrame.from_dict(merged_dict, orient='index')\n",
    "\n",
    "# Calculate per capita stolen value\n",
    "merged_df['per_capita_stolen_value'] = merged_df['stolen_value'] / merged_df['population']\n",
    "\n",
    "# Find the state with the highest per capita stolen value\n",
    "state_highest_per_capita = merged_df['per_capita_stolen_value'].idxmax()\n",
    "\n",
    "# Get the highest per capita stolen value\n",
    "highest_per_capita_value = merged_df['per_capita_stolen_value'].max()\n",
    "\n",
    "print(f\"The state with the highest per capita stolen value is {state_highest_per_capita} with an average per capita stolen value of ${highest_per_capita_value:.2f}.\")\n"
   ]
  }
 ],
 "metadata": {
  "kernelspec": {
   "display_name": ".venv",
   "language": "python",
   "name": "python3"
  },
  "language_info": {
   "codemirror_mode": {
    "name": "ipython",
    "version": 3
   },
   "file_extension": ".py",
   "mimetype": "text/x-python",
   "name": "python",
   "nbconvert_exporter": "python",
   "pygments_lexer": "ipython3",
   "version": "3.9.7"
  }
 },
 "nbformat": 4,
 "nbformat_minor": 2
}
