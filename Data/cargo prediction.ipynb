{
 "cells": [
  {
   "cell_type": "code",
   "execution_count": 4,
   "metadata": {},
   "outputs": [],
   "source": [
    "import pandas as pd\n",
    "import seaborn as sns\n",
    "import matplotlib.pyplot as plt\n",
    "from sklearn.neighbors import KNeighborsClassifier\n",
    "from sklearn.model_selection import train_test_split, cross_val_score\n",
    "from sklearn.metrics import confusion_matrix, ConfusionMatrixDisplay\n",
    "from sklearn.preprocessing import MinMaxScaler"
   ]
  },
  {
   "cell_type": "code",
   "execution_count": 6,
   "metadata": {},
   "outputs": [
    {
     "name": "stdout",
     "output_type": "stream",
     "text": [
      "<class 'pandas.core.frame.DataFrame'>\n",
      "RangeIndex: 193274 entries, 0 to 193273\n",
      "Data columns (total 31 columns):\n",
      " #   Column                 Non-Null Count   Dtype  \n",
      "---  ------                 --------------   -----  \n",
      " 0   data_year              193274 non-null  int64  \n",
      " 1   ori                    193274 non-null  object \n",
      " 2   pub_agency_name        193274 non-null  object \n",
      " 3   pub_agency_unit        2202 non-null    object \n",
      " 4   agency_type_name       193274 non-null  object \n",
      " 5   state_abbr             193274 non-null  object \n",
      " 6   state_name             193274 non-null  object \n",
      " 7   division_name          193274 non-null  object \n",
      " 8   county_name            193274 non-null  object \n",
      " 9   region_name            193274 non-null  object \n",
      " 10  population_group_code  193232 non-null  object \n",
      " 11  population_group_desc  193232 non-null  object \n",
      " 12  offense_code           193274 non-null  object \n",
      " 13  offense_name           193274 non-null  object \n",
      " 14  offender_race          108063 non-null  object \n",
      " 15  offender_ethnicity     108063 non-null  object \n",
      " 16  offender_age           99481 non-null   float64\n",
      " 17  offender_sex           108063 non-null  object \n",
      " 18  victim_type_code       193274 non-null  object \n",
      " 19  victim_type_name       193274 non-null  object \n",
      " 20  location_code          193274 non-null  int64  \n",
      " 21  location_name          193274 non-null  object \n",
      " 22  weapon_code            17691 non-null   object \n",
      " 23  weapon_name            15500 non-null   object \n",
      " 24  prop_desc_code         193203 non-null  float64\n",
      " 25  prop_desc_code.1       193203 non-null  float64\n",
      " 26  prop_desc_name         193203 non-null  object \n",
      " 27  stolen_value           192801 non-null  float64\n",
      " 28  recovered_value        193274 non-null  int64  \n",
      " 29  recovered_flag         193203 non-null  object \n",
      " 30  date_recovered         28743 non-null   object \n",
      "dtypes: float64(4), int64(3), object(24)\n",
      "memory usage: 45.7+ MB\n"
     ]
    }
   ],
   "source": [
    "df = pd.read_csv(\"CT2012.csv\")\n",
    "df.info()"
   ]
  }
 ],
 "metadata": {
  "kernelspec": {
   "display_name": ".venv",
   "language": "python",
   "name": "python3"
  },
  "language_info": {
   "codemirror_mode": {
    "name": "ipython",
    "version": 3
   },
   "file_extension": ".py",
   "mimetype": "text/x-python",
   "name": "python",
   "nbconvert_exporter": "python",
   "pygments_lexer": "ipython3",
   "version": "3.9.7"
  }
 },
 "nbformat": 4,
 "nbformat_minor": 2
}
